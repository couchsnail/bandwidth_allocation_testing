{
 "cells": [
  {
   "cell_type": "code",
   "execution_count": 1,
   "metadata": {},
   "outputs": [],
   "source": [
    "import networkx as nx\n",
    "import numpy as np\n",
    "from scipy.optimize import linprog\n",
    "import pandas as pd"
   ]
  },
  {
   "cell_type": "markdown",
   "metadata": {},
   "source": [
    "Below is Aashay's code for solving bandwidth allocation using linear programming."
   ]
  },
  {
   "cell_type": "code",
   "execution_count": 2,
   "metadata": {},
   "outputs": [
    {
     "data": {
      "text/plain": [
       "0"
      ]
     },
     "execution_count": 2,
     "metadata": {},
     "output_type": "execute_result"
    }
   ],
   "source": [
    "m = nx.MultiGraph()\n",
    "\n",
    "m.add_node(\"A\", port_capacity=100)\n",
    "m.add_node(\"B\", port_capacity=400)\n",
    "m.add_node(\"C\", port_capacity=400)\n",
    "m.add_node(\"D\", port_capacity=200)\n",
    "\n",
    "m.add_edge(\"A\", \"B\", priority=3)\n",
    "m.add_edge(\"A\", \"C\", priority=5)\n",
    "m.add_edge(\"B\", \"C\", priority=1)\n",
    "m.add_edge(\"B\", \"C\", priority=1)\n",
    "m.add_edge(\"B\", \"D\", priority=5)\n",
    "m.add_edge(\"C\", \"D\", priority=5)"
   ]
  },
  {
   "cell_type": "code",
   "execution_count": 3,
   "metadata": {},
   "outputs": [],
   "source": [
    "g = nx.Graph()\n",
    "\n",
    "g.add_nodes_from(m.nodes(data=True))\n",
    "# sum priorites of all edges sharing the same nodes in multigraph and add to graph\n",
    "for u, v, data in m.edges(data=True):\n",
    "    priority = data['priority']\n",
    "    # If the edge already exists in the simple graph, sum the weights\n",
    "    if g.has_edge(u, v):\n",
    "        g[u][v]['priority'] += priority\n",
    "    else:\n",
    "        g.add_edge(u, v, priority=priority)\n"
   ]
  },
  {
   "cell_type": "code",
   "execution_count": 4,
   "metadata": {},
   "outputs": [
    {
     "name": "stdout",
     "output_type": "stream",
     "text": [
      "[('A', 'B', {'priority': 3}), ('A', 'C', {'priority': 5}), ('B', 'C', {'priority': 2}), ('B', 'D', {'priority': 5}), ('C', 'D', {'priority': 5})]\n"
     ]
    }
   ],
   "source": [
    "print(g.edges(data=True))"
   ]
  },
  {
   "cell_type": "code",
   "execution_count": 5,
   "metadata": {},
   "outputs": [],
   "source": [
    "nodes = list(g.nodes)\n",
    "node_index = {node: i for i, node in enumerate(nodes)}\n",
    "\n",
    "# Step 3: List the edges and assign an index to each\n",
    "edges = list(g.edges(data=True))\n",
    "edge_index = {tuple(edge[:2]): i for i, edge in enumerate(edges)}\n",
    "\n",
    "# Step 4: Initialize the incidence matrix\n",
    "n_nodes = len(nodes)\n",
    "n_edges = len(edges)\n",
    "A = np.zeros((n_nodes, n_edges))\n",
    "\n",
    "# Step 5: Populate the incidence matrix\n",
    "for edge, data in edge_index.items():\n",
    "    u, v = edge\n",
    "    priority = g[u][v]['priority']\n",
    "    i = node_index[u]\n",
    "    j = node_index[v]\n",
    "    \n",
    "    A[i, data] = priority  # Outgoing edge from node i\n",
    "    A[j, data] = priority  # Incoming edge to node j"
   ]
  },
  {
   "cell_type": "code",
   "execution_count": 6,
   "metadata": {},
   "outputs": [
    {
     "data": {
      "text/plain": [
       "array([[3., 5., 0., 0., 0.],\n",
       "       [3., 0., 2., 5., 0.],\n",
       "       [0., 5., 2., 0., 5.],\n",
       "       [0., 0., 0., 5., 5.]])"
      ]
     },
     "execution_count": 6,
     "metadata": {},
     "output_type": "execute_result"
    }
   ],
   "source": [
    "A"
   ]
  },
  {
   "cell_type": "code",
   "execution_count": 7,
   "metadata": {},
   "outputs": [
    {
     "data": {
      "text/plain": [
       "{('A', 'B'): 0, ('A', 'C'): 1, ('B', 'C'): 2, ('B', 'D'): 3, ('C', 'D'): 4}"
      ]
     },
     "execution_count": 7,
     "metadata": {},
     "output_type": "execute_result"
    }
   ],
   "source": [
    "edge_index"
   ]
  },
  {
   "cell_type": "code",
   "execution_count": 8,
   "metadata": {},
   "outputs": [],
   "source": [
    "b = np.fromiter(nx.get_node_attributes(g, \"port_capacity\").values(), dtype=float)"
   ]
  },
  {
   "cell_type": "code",
   "execution_count": 9,
   "metadata": {},
   "outputs": [
    {
     "data": {
      "text/plain": [
       "array([100., 400., 400., 200.])"
      ]
     },
     "execution_count": 9,
     "metadata": {},
     "output_type": "execute_result"
    }
   ],
   "source": [
    "b"
   ]
  },
  {
   "cell_type": "code",
   "execution_count": 10,
   "metadata": {},
   "outputs": [
    {
     "name": "stdout",
     "output_type": "stream",
     "text": [
      "[ 13.33333333  12.         125.          22.          18.        ]\n"
     ]
    }
   ],
   "source": [
    "success = True\n",
    "lower_bound = 0\n",
    "x_arr = []\n",
    "\n",
    "while success:\n",
    "    optim = linprog(c=-np.ones(n_edges), A_eq=A, b_eq=b, bounds=(lower_bound,None))\n",
    "    success = optim.success\n",
    "    if success:\n",
    "        x_arr.append(optim.x)\n",
    "    lower_bound += 1\n",
    "#print(x_arr)\n",
    "x = x_arr[[min(x) for x in x_arr].index(max(min(x) for x in x_arr))]\n",
    "print(x)"
   ]
  },
  {
   "cell_type": "code",
   "execution_count": 11,
   "metadata": {},
   "outputs": [
    {
     "data": {
      "text/plain": [
       "array([ 40.,  60., 250., 110.,  90.])"
      ]
     },
     "execution_count": 11,
     "metadata": {},
     "output_type": "execute_result"
    }
   ],
   "source": [
    "x * [3,5,2,5,5]"
   ]
  },
  {
   "cell_type": "markdown",
   "metadata": {},
   "source": [
    "Below is an attempt at solving the bandwidth allocation problem through weighted fair queueing. While I do get a solution, the bandwidth assigned exceeds capacity. There might be a way to add constraints, but for now it is what it is."
   ]
  },
  {
   "cell_type": "code",
   "execution_count": 12,
   "metadata": {},
   "outputs": [],
   "source": [
    "#Testing weighted fair queueing\n",
    "#Capacities is the capacities of each node\n",
    "#Priorities is the incidence matrix for the graph\n",
    "def weighted_fair_queueing(capacities, priorities):\n",
    "    \n",
    "    n = len(capacities)\n",
    "    \n",
    "    # Initialize the allocation matrix X\n",
    "    X = np.zeros((n, n))\n",
    "    \n",
    "    # Setup equality constraints for the relative priorities\n",
    "    # Ex: Node A has edge (A,B) with priority 5, and edge (A,D) with priority 3. \n",
    "    # Ratio is preserved in equality in the form of [5 3 0 0 ...] and appended to list\n",
    "    # This is equivalent to 5x + 3y = 0, meaning capacity should be full\n",
    "    equations = []\n",
    "    for i in range(n):\n",
    "        for j in range(n):\n",
    "            for k in range(n):\n",
    "                #Only gets edges that are positive priority and not itself\n",
    "                if j != k and priorities[i][j] > 0 and priorities[i][k] > 0:\n",
    "                    #Creates an equation list that is empty\n",
    "                    equation = np.zeros(n*n)\n",
    "                    equation[i*n + j] = priorities[i][k]\n",
    "                    equation[i*n + k] = -priorities[i][j]\n",
    "                    equations.append(equation)\n",
    "                    \n",
    "    equations = np.array(equations)\n",
    "    \n",
    "    # Makes sure that no node exceeds its capacity\n",
    "    # Represented as a 1 if the node has a connection there\n",
    "    # So that the sum of used capacities is <= full capacity\n",
    "    capacity_constraints = []\n",
    "    for i in range(n):\n",
    "        capacity_equation = np.zeros(n*n)\n",
    "        for j in range(n):\n",
    "            capacity_equation[i*n + j] = 1\n",
    "        capacity_constraints.append(capacity_equation)\n",
    "    \n",
    "    capacity_constraints = np.array(capacity_constraints)\n",
    "    equations = np.vstack([equations, capacity_constraints])\n",
    "    \n",
    "    # Solve for the allocations\n",
    "    b = np.concatenate([np.zeros(len(equations) - n), capacities])\n",
    "    #Solves using least squares regression\n",
    "    X_vector = np.linalg.lstsq(equations, b, rcond=None)[0]\n",
    "    X = X_vector.reshape((n, n))\n",
    "    \n",
    "    return X"
   ]
  },
  {
   "cell_type": "code",
   "execution_count": 13,
   "metadata": {},
   "outputs": [
    {
     "data": {
      "text/plain": [
       "0"
      ]
     },
     "execution_count": 13,
     "metadata": {},
     "output_type": "execute_result"
    }
   ],
   "source": [
    "w = nx.MultiGraph()\n",
    "w.add_node(\"A\", port_capacity=100)\n",
    "w.add_node(\"B\", port_capacity=400)\n",
    "w.add_node(\"C\", port_capacity=400)\n",
    "w.add_node(\"D\", port_capacity=200)\n",
    "\n",
    "w.add_edge(\"A\", \"B\", priority=3)\n",
    "w.add_edge(\"A\", \"C\", priority=5)\n",
    "w.add_edge(\"B\", \"C\", priority=1)\n",
    "w.add_edge(\"B\", \"C\", priority=1)\n",
    "w.add_edge(\"B\", \"D\", priority=5)\n",
    "w.add_edge(\"C\", \"D\", priority=5)\n",
    "w.add_edge(\"A\", \"D\", priority=4)"
   ]
  },
  {
   "cell_type": "code",
   "execution_count": 14,
   "metadata": {},
   "outputs": [
    {
     "name": "stdout",
     "output_type": "stream",
     "text": [
      "[('A', 'B', {'priority': 3}), ('A', 'C', {'priority': 5}), ('A', 'D', {'priority': 4}), ('B', 'C', {'priority': 2}), ('B', 'D', {'priority': 5}), ('C', 'D', {'priority': 5})]\n"
     ]
    }
   ],
   "source": [
    "#Testing implementation of weighted fair queuing\n",
    "test = nx.MultiGraph()\n",
    "\n",
    "test.add_nodes_from(w.nodes(data=True))\n",
    "# sum priorites of all edges sharing the same nodes in multigraph and add to graph\n",
    "for u, v, data in w.edges(data=True):\n",
    "    priority = data['priority']\n",
    "    # If the edge already exists in the simple graph, sum the weights\n",
    "    if test.has_edge(u, v):\n",
    "        test[u][v][0]['priority'] += priority\n",
    "    else:\n",
    "        test.add_edge(u, v, priority=priority)\n",
    "\n",
    "print(test.edges(data=True))"
   ]
  },
  {
   "cell_type": "code",
   "execution_count": 15,
   "metadata": {},
   "outputs": [
    {
     "name": "stdout",
     "output_type": "stream",
     "text": [
      "{'A': 0, 'B': 1, 'C': 2, 'D': 3}\n",
      "{('A', 'B'): 0, ('A', 'C'): 1, ('A', 'D'): 2, ('B', 'C'): 3, ('B', 'D'): 4, ('C', 'D'): 5}\n",
      "[[3. 5. 4. 0. 0. 0.]\n",
      " [3. 0. 0. 2. 5. 0.]\n",
      " [0. 5. 0. 2. 0. 5.]\n",
      " [0. 0. 4. 0. 5. 5.]]\n"
     ]
    }
   ],
   "source": [
    "# Create a list of nodes and a node index mapping\n",
    "test_nodes = list(test.nodes)\n",
    "test_node_index = {node: i for i, node in enumerate(test_nodes)}\n",
    "print(node_index)\n",
    "\n",
    "# List the edges and assign an index to each\n",
    "test_edges = list(test.edges(data=True))\n",
    "test_edge_index = {tuple(edge[:2]): i for i, edge in enumerate(test_edges)}\n",
    "print(test_edge_index)\n",
    "\n",
    "# Initialize the incidence matrix\n",
    "test_n_nodes = len(test_nodes)\n",
    "test_n_edges = len(test_edges)\n",
    "test_A = np.zeros((test_n_nodes, test_n_edges))\n",
    "\n",
    "# Populate the incidence matrix\n",
    "for edge, index in test_edge_index.items():\n",
    "    u, v = edge\n",
    "    priority = test[u][v][0]['priority']  # Access the 'priority' attribute correctly\n",
    "    i = test_node_index[u]\n",
    "    j = test_node_index[v]\n",
    "    \n",
    "    test_A[i, index] = priority  # Outgoing edge from node i\n",
    "    test_A[j, index] = priority  # Incoming edge to node j\n",
    "\n",
    "print(test_A)"
   ]
  },
  {
   "cell_type": "code",
   "execution_count": 16,
   "metadata": {},
   "outputs": [
    {
     "data": {
      "text/html": [
       "<div>\n",
       "<style scoped>\n",
       "    .dataframe tbody tr th:only-of-type {\n",
       "        vertical-align: middle;\n",
       "    }\n",
       "\n",
       "    .dataframe tbody tr th {\n",
       "        vertical-align: top;\n",
       "    }\n",
       "\n",
       "    .dataframe thead th {\n",
       "        text-align: right;\n",
       "    }\n",
       "</style>\n",
       "<table border=\"1\" class=\"dataframe\">\n",
       "  <thead>\n",
       "    <tr style=\"text-align: right;\">\n",
       "      <th></th>\n",
       "      <th>0</th>\n",
       "      <th>1</th>\n",
       "      <th>2</th>\n",
       "      <th>3</th>\n",
       "    </tr>\n",
       "  </thead>\n",
       "  <tbody>\n",
       "    <tr>\n",
       "      <th>0</th>\n",
       "      <td>18.556701</td>\n",
       "      <td>30.927835</td>\n",
       "      <td>24.742268</td>\n",
       "      <td>25.773196</td>\n",
       "    </tr>\n",
       "    <tr>\n",
       "      <th>1</th>\n",
       "      <td>117.647059</td>\n",
       "      <td>101.960784</td>\n",
       "      <td>101.960784</td>\n",
       "      <td>78.431373</td>\n",
       "    </tr>\n",
       "    <tr>\n",
       "      <th>2</th>\n",
       "      <td>108.411215</td>\n",
       "      <td>130.841121</td>\n",
       "      <td>108.411215</td>\n",
       "      <td>52.336449</td>\n",
       "    </tr>\n",
       "    <tr>\n",
       "      <th>3</th>\n",
       "      <td>50.000000</td>\n",
       "      <td>50.000000</td>\n",
       "      <td>50.000000</td>\n",
       "      <td>50.000000</td>\n",
       "    </tr>\n",
       "  </tbody>\n",
       "</table>\n",
       "</div>"
      ],
      "text/plain": [
       "            0           1           2          3\n",
       "0   18.556701   30.927835   24.742268  25.773196\n",
       "1  117.647059  101.960784  101.960784  78.431373\n",
       "2  108.411215  130.841121  108.411215  52.336449\n",
       "3   50.000000   50.000000   50.000000  50.000000"
      ]
     },
     "execution_count": 16,
     "metadata": {},
     "output_type": "execute_result"
    }
   ],
   "source": [
    "test_capacities = np.fromiter(nx.get_node_attributes(test, \"port_capacity\").values(), dtype=float)\n",
    "test_priorities = test_A\n",
    "\n",
    "#Same problem as above: unsure how to get actual transfer numbers out of this\n",
    "wfq_X = weighted_fair_queueing(test_capacities, test_priorities)\n",
    "wfq = pd.DataFrame(data=wfq_X)\n",
    "wfq"
   ]
  },
  {
   "cell_type": "code",
   "execution_count": 17,
   "metadata": {},
   "outputs": [
    {
     "name": "stdout",
     "output_type": "stream",
     "text": [
      "100.00000000000001\n",
      "400.00000000000006\n",
      "400.00000000000006\n",
      "200.0000000000001\n"
     ]
    }
   ],
   "source": [
    "print(sum(wfq_X[0]))\n",
    "print(sum(wfq_X[1]))\n",
    "print(sum(wfq_X[2]))\n",
    "print(sum(wfq_X[3]))"
   ]
  },
  {
   "cell_type": "markdown",
   "metadata": {},
   "source": [
    "This is an alternative implementation of weighted fair queueing. It works, but way underallocates bandwidth."
   ]
  },
  {
   "cell_type": "code",
   "execution_count": 18,
   "metadata": {},
   "outputs": [],
   "source": [
    "# Priority matrix in this case has each [row, col] represent a node\n",
    "# Ex: [1,2] represents an edge between node 1 and node 2\n",
    "def weighted_fair_queuing_2(node_capacities, priority_matrix):\n",
    "    num_nodes = len(node_capacities)\n",
    "    allocation_matrix = np.zeros((num_nodes, num_nodes))\n",
    "    remaining_capacities = node_capacities.copy()\n",
    "    \n",
    "    # Normalize priorities to make them proportional\n",
    "    normalized_priorities = np.where(priority_matrix > 0, priority_matrix, 1)\n",
    "    normalized_priorities_sum = normalized_priorities.sum(axis=1, keepdims=True)\n",
    "    normalized_priorities = np.where(normalized_priorities_sum > 0, normalized_priorities / normalized_priorities_sum, 0)\n",
    "    \n",
    "    # Store handled edges so we don't repeat\n",
    "    handled_edges = set()\n",
    "\n",
    "    # Allocate bandwidth based on priorities\n",
    "    for i in range(num_nodes):\n",
    "        for j in range(num_nodes):\n",
    "            # Only consider half the matrix (as other half is repeats)\n",
    "            if i < j and priority_matrix[i, j] > 0:\n",
    "                # Calculate available bandwidth at node i and j\n",
    "                available_bandwidth_i = remaining_capacities.get(i)\n",
    "                available_bandwidth_j = remaining_capacities.get(j)\n",
    "                \n",
    "                # Calculate the maximum possible allocation for the edge\n",
    "                max_allocation = min(available_bandwidth_i, available_bandwidth_j)\n",
    "                \n",
    "                # Calculate allocated bandwidth based on priority\n",
    "                allocated_bandwidth = max_allocation * normalized_priorities[i, j]\n",
    "                \n",
    "                # Ensure allocated bandwidth does not exceed the capacity of either node\n",
    "                allocation = min(allocated_bandwidth, available_bandwidth_i, available_bandwidth_j)\n",
    "                allocation_matrix[i, j] = allocation\n",
    "                \n",
    "                # Update remaining capacities\n",
    "                remaining_capacities[i] -= allocation\n",
    "                remaining_capacities[j] -= allocation\n",
    "                \n",
    "                # Mark edge (i, j) and (j, i) as handled\n",
    "                handled_edges.add((i, j))\n",
    "                handled_edges.add((j, i))\n",
    "    \n",
    "    # Generate list of bandwidth assignments\n",
    "    edge_bandwidth_list = [\n",
    "        (i, j, allocation_matrix[i, j])\n",
    "        for i in range(num_nodes)\n",
    "        for j in range(num_nodes)\n",
    "        if i < j and allocation_matrix[i, j] > 0\n",
    "    ]\n",
    "    \n",
    "    return allocation_matrix, edge_bandwidth_list"
   ]
  },
  {
   "cell_type": "code",
   "execution_count": 19,
   "metadata": {},
   "outputs": [
    {
     "name": "stdout",
     "output_type": "stream",
     "text": [
      "Allocation Matrix:\n",
      "[[ 0.  25.  37.5]\n",
      " [ 0.   0.   0. ]\n",
      " [ 0.   0.   0. ]]\n",
      "Bandwidth: [(0, 1, 25.0), (0, 2, 37.5)]\n"
     ]
    }
   ],
   "source": [
    "# Testing weighted_fair_queuing_2\n",
    "node_capacities = {0: 100, 1: 400, 2: 500}\n",
    "priority_matrix = np.array([\n",
    "    [0, 1, 2],\n",
    "    [1, 0, 0],\n",
    "    [2, 0, 0]\n",
    "])\n",
    "\n",
    "allocation_matrix, bandwidth = weighted_fair_queuing_2(node_capacities, priority_matrix)\n",
    "print(\"Allocation Matrix:\")\n",
    "print(allocation_matrix)\n",
    "print(f\"Bandwidth: {bandwidth}\")"
   ]
  },
  {
   "cell_type": "markdown",
   "metadata": {},
   "source": [
    "This is my attempt at weighted fair queuing with linear programming. Like with my first attempt at weighted fair queuing, it does assign bandwidth to each transfer, but I don't know how to interpret the results of the matrix. Also, bandwidth assigned exceeds capacity of certain nodes. "
   ]
  },
  {
   "cell_type": "code",
   "execution_count": 20,
   "metadata": {},
   "outputs": [],
   "source": [
    "def weighted_fair_queueing_linprog(capacities, priorities):\n",
    "    # m is the number of source nodes, n is the number of destination nodes\n",
    "    m, n = priorities.shape  \n",
    "    \n",
    "    # Initialize the objective function coefficients (to minimize the negative sum of allocations)\n",
    "    # To maximize the priorities, you can minimize negative priorities\n",
    "    # So we turn the 2D matrix into a 1D vector and negate it\n",
    "    c = -priorities.flatten()\n",
    "\n",
    "    # Setup inequality constraints based on each node's capacity\n",
    "    A_ineq = []\n",
    "    for i in range(m):\n",
    "        capacity_constraint = np.zeros(m * n)\n",
    "        for j in range(n):\n",
    "            capacity_constraint[i * n + j] = 1\n",
    "        A_ineq.append(capacity_constraint)\n",
    "    \n",
    "    A_ineq = np.array(A_ineq)\n",
    "    b_ineq = capacities  \n",
    "\n",
    "    # Setup equality constraints for the relative priorities\n",
    "    # Ex: Node A has edge (A,B) with priority 5, and edge (A,D) with priority 3. \n",
    "    # Ratio is preserved in equality in the form of [5 3 0 0 ...] and appended to list\n",
    "    # This is equivalent to 5x + 3y = 0, meaning capacity should be full\n",
    "    A_eq = []\n",
    "    b_eq = []\n",
    "    for i in range(m):\n",
    "        for j in range(n):\n",
    "            for k in range(n):\n",
    "                if j != k and priorities[i][j] > 0 and priorities[i][k] > 0:\n",
    "                    eq_constraint = np.zeros(m * n)\n",
    "                    eq_constraint[i * n + j] = priorities[i][k]\n",
    "                    eq_constraint[i * n + k] = -priorities[i][j]\n",
    "                    A_eq.append(eq_constraint)\n",
    "                    #Creates vector of zeroes so that the equation in A can be equal to 0\n",
    "                    b_eq.append(0)\n",
    "    \n",
    "    A_eq = np.array(A_eq)\n",
    "    b_eq = np.array(b_eq)\n",
    "    \n",
    "    # Solve the linear program\n",
    "    result = linprog(c, A_ub=A_ineq, b_ub=b_ineq, A_eq=A_eq, b_eq=b_eq, method='highs')\n",
    "    \n",
    "    if result.success:\n",
    "        X_vector = result.x\n",
    "        X = X_vector.reshape((m, n))\n",
    "        return X\n",
    "    else:\n",
    "        raise ValueError(\"Linear programming failed to find a solution\")"
   ]
  },
  {
   "cell_type": "code",
   "execution_count": 21,
   "metadata": {},
   "outputs": [
    {
     "data": {
      "text/html": [
       "<div>\n",
       "<style scoped>\n",
       "    .dataframe tbody tr th:only-of-type {\n",
       "        vertical-align: middle;\n",
       "    }\n",
       "\n",
       "    .dataframe tbody tr th {\n",
       "        vertical-align: top;\n",
       "    }\n",
       "\n",
       "    .dataframe thead th {\n",
       "        text-align: right;\n",
       "    }\n",
       "</style>\n",
       "<table border=\"1\" class=\"dataframe\">\n",
       "  <thead>\n",
       "    <tr style=\"text-align: right;\">\n",
       "      <th></th>\n",
       "      <th>0</th>\n",
       "      <th>1</th>\n",
       "      <th>2</th>\n",
       "      <th>3</th>\n",
       "      <th>4</th>\n",
       "      <th>5</th>\n",
       "    </tr>\n",
       "  </thead>\n",
       "  <tbody>\n",
       "    <tr>\n",
       "      <th>0</th>\n",
       "      <td>25.0</td>\n",
       "      <td>41.666667</td>\n",
       "      <td>33.333333</td>\n",
       "      <td>0.000000</td>\n",
       "      <td>0.000000</td>\n",
       "      <td>0.000000</td>\n",
       "    </tr>\n",
       "    <tr>\n",
       "      <th>1</th>\n",
       "      <td>120.0</td>\n",
       "      <td>0.000000</td>\n",
       "      <td>0.000000</td>\n",
       "      <td>80.000000</td>\n",
       "      <td>200.000000</td>\n",
       "      <td>0.000000</td>\n",
       "    </tr>\n",
       "    <tr>\n",
       "      <th>2</th>\n",
       "      <td>0.0</td>\n",
       "      <td>166.666667</td>\n",
       "      <td>0.000000</td>\n",
       "      <td>66.666667</td>\n",
       "      <td>0.000000</td>\n",
       "      <td>166.666667</td>\n",
       "    </tr>\n",
       "    <tr>\n",
       "      <th>3</th>\n",
       "      <td>0.0</td>\n",
       "      <td>0.000000</td>\n",
       "      <td>57.142857</td>\n",
       "      <td>0.000000</td>\n",
       "      <td>71.428571</td>\n",
       "      <td>71.428571</td>\n",
       "    </tr>\n",
       "  </tbody>\n",
       "</table>\n",
       "</div>"
      ],
      "text/plain": [
       "       0           1          2          3           4           5\n",
       "0   25.0   41.666667  33.333333   0.000000    0.000000    0.000000\n",
       "1  120.0    0.000000   0.000000  80.000000  200.000000    0.000000\n",
       "2    0.0  166.666667   0.000000  66.666667    0.000000  166.666667\n",
       "3    0.0    0.000000  57.142857   0.000000   71.428571   71.428571"
      ]
     },
     "execution_count": 21,
     "metadata": {},
     "output_type": "execute_result"
    }
   ],
   "source": [
    "# Problem: Bandwidth is perfect across rows, but across columns (the transferes)\n",
    "# Maximum bandwidth either exceeds capacity or will under utilize it\n",
    "X = weighted_fair_queueing_linprog(test_capacities, test_priorities)\n",
    "display_allocation = pd.DataFrame(data=X)\n",
    "display_allocation"
   ]
  },
  {
   "cell_type": "code",
   "execution_count": 22,
   "metadata": {},
   "outputs": [
    {
     "name": "stdout",
     "output_type": "stream",
     "text": [
      "100.0\n",
      "400.0\n",
      "400.0\n",
      "199.99999999999997\n"
     ]
    }
   ],
   "source": [
    "for r in range(display_allocation.shape[0]):\n",
    "    print(display_allocation.iloc[r].sum())"
   ]
  },
  {
   "cell_type": "code",
   "execution_count": 23,
   "metadata": {},
   "outputs": [
    {
     "data": {
      "text/plain": [
       "array([[3., 5., 4., 0., 0., 0.],\n",
       "       [3., 0., 0., 2., 5., 0.],\n",
       "       [0., 5., 0., 2., 0., 5.],\n",
       "       [0., 0., 4., 0., 5., 5.]])"
      ]
     },
     "execution_count": 23,
     "metadata": {},
     "output_type": "execute_result"
    }
   ],
   "source": [
    "test_priorities"
   ]
  },
  {
   "cell_type": "code",
   "execution_count": 24,
   "metadata": {},
   "outputs": [
    {
     "data": {
      "text/plain": [
       "['A', 'B', 'C', 'D']"
      ]
     },
     "execution_count": 24,
     "metadata": {},
     "output_type": "execute_result"
    }
   ],
   "source": [
    "test_nodes"
   ]
  },
  {
   "cell_type": "markdown",
   "metadata": {},
   "source": [
    "This is my implementation of max_min_fairness without demand. While it can allocate bandwidth for the first transfer, it exceeds node capacities when other transfers are considered. A constraint could be considered, but I'm not sure it will work. "
   ]
  },
  {
   "cell_type": "code",
   "execution_count": 25,
   "metadata": {},
   "outputs": [
    {
     "name": "stdout",
     "output_type": "stream",
     "text": [
      "{'A': 0, 'B': 1, 'C': 2}\n",
      "{('A', 'B'): 0, ('A', 'C'): 1}\n",
      "[[2. 4.]\n",
      " [2. 0.]\n",
      " [0. 4.]]\n"
     ]
    }
   ],
   "source": [
    "c = nx.Graph()\n",
    "c.add_node(\"A\", port_capacity=100)\n",
    "c.add_node(\"B\", port_capacity=400)\n",
    "c.add_node(\"C\", port_capacity=50)\n",
    "\n",
    "c.add_edge(\"A\", \"B\", priority=2)\n",
    "c.add_edge(\"A\", \"C\", priority=4)\n",
    "\n",
    "# Create a list of nodes and a node index mapping\n",
    "c_nodes = list(c.nodes)\n",
    "c_node_index = {node: i for i, node in enumerate(c_nodes)}\n",
    "print(c_node_index)\n",
    "\n",
    "# List the edges and assign an index to each\n",
    "c_edges = list(c.edges(data=True))\n",
    "c_edge_index = {tuple(edge[:2]): i for i, edge in enumerate(c_edges)}\n",
    "print(c_edge_index)\n",
    "\n",
    "# Initialize the incidence matrix\n",
    "c_n_nodes = len(c_nodes)\n",
    "c_n_edges = len(c_edges)\n",
    "test_C = np.zeros((c_n_nodes, c_n_edges))\n",
    "\n",
    "# Populate the incidence matrix\n",
    "for edge, index in c_edge_index.items():\n",
    "    u, v = edge\n",
    "    priority = c[u][v]['priority']  # Access the 'priority' attribute correctly\n",
    "    i = c_node_index[u]\n",
    "    j = c_node_index[v]\n",
    "    \n",
    "    test_C[i, index] = priority  # Outgoing edge from node i\n",
    "    test_C[j, index] = priority  # Incoming edge to node j\n",
    "\n",
    "print(test_C)"
   ]
  },
  {
   "cell_type": "code",
   "execution_count": 26,
   "metadata": {},
   "outputs": [],
   "source": [
    "def max_min_fairness_priorities(capacities, priorities, node_index, edge_index):    \n",
    "    #normalize each row in priorities\n",
    "    normalized_priorities = []\n",
    "    for p in priorities:\n",
    "        row_sum = sum(p)\n",
    "        normalized_priorities.append(p / row_sum)\n",
    "\n",
    "    temp_assignment = []\n",
    "\n",
    "    #Assign minimum bandwidth to each transfer\n",
    "    for r in range(len(normalized_priorities)):\n",
    "        current = capacities[r] * normalized_priorities[r]\n",
    "        temp_assignment.append(current)\n",
    "\n",
    "    #For each column in temp_assignment, find the minimum bandwidth\n",
    "    #Then sum those minimum bandwidths and see how much capacity each node has left\n",
    "    transfer_dict = {}\n",
    "    for c in range(len(temp_assignment[0])):\n",
    "        col = [row[c] for row in temp_assignment if row[c]!=0]\n",
    "        min_bandwidth = min(col)\n",
    "        transfer_dict.update({c:min_bandwidth})\n",
    "\n",
    "    #Recreate priority matrix with new allocations\n",
    "    min_priorities = np.zeros((len(node_index), len(edge_index)))\n",
    "\n",
    "    for edge, index in edge_index.items():\n",
    "        u, v = edge\n",
    "        priority = transfer_dict.get(index)  # Get priority from transfer_dict\n",
    "        i = node_index[u]\n",
    "        j = node_index[v]\n",
    "        \n",
    "        min_priorities[i, index] = priority  # Outgoing edge from node i\n",
    "        min_priorities[j, index] = priority  # Incoming edge to node j\n",
    "    \n",
    "    #Find how much bandwidth can be distributed\n",
    "    for r in range(len(min_priorities)):\n",
    "        remaining_capacity = capacities[r] - sum(min_priorities[r])\n",
    "        if remaining_capacity > 0:\n",
    "            # Distribute remaining capacity fairly to transfers with higher priorities\n",
    "            for c in range(len(normalized_priorities[r])):\n",
    "                if remaining_capacity <= 0:\n",
    "                    break  # Stop if no capacity remains\n",
    "                \n",
    "                # Calculate extra allocation proportional to the priority\n",
    "                extra_bandwidth = remaining_capacity * normalized_priorities[r][c]\n",
    "                min_priorities[r][c] += extra_bandwidth\n",
    "                remaining_capacity -= extra_bandwidth\n",
    "    \n",
    "    return min_priorities"
   ]
  },
  {
   "cell_type": "code",
   "execution_count": 27,
   "metadata": {},
   "outputs": [
    {
     "data": {
      "text/html": [
       "<div>\n",
       "<style scoped>\n",
       "    .dataframe tbody tr th:only-of-type {\n",
       "        vertical-align: middle;\n",
       "    }\n",
       "\n",
       "    .dataframe tbody tr th {\n",
       "        vertical-align: top;\n",
       "    }\n",
       "\n",
       "    .dataframe thead th {\n",
       "        text-align: right;\n",
       "    }\n",
       "</style>\n",
       "<table border=\"1\" class=\"dataframe\">\n",
       "  <thead>\n",
       "    <tr style=\"text-align: right;\">\n",
       "      <th></th>\n",
       "      <th>0</th>\n",
       "      <th>1</th>\n",
       "    </tr>\n",
       "  </thead>\n",
       "  <tbody>\n",
       "    <tr>\n",
       "      <th>0</th>\n",
       "      <td>38.888889</td>\n",
       "      <td>57.407407</td>\n",
       "    </tr>\n",
       "    <tr>\n",
       "      <th>1</th>\n",
       "      <td>400.000000</td>\n",
       "      <td>0.000000</td>\n",
       "    </tr>\n",
       "    <tr>\n",
       "      <th>2</th>\n",
       "      <td>0.000000</td>\n",
       "      <td>50.000000</td>\n",
       "    </tr>\n",
       "  </tbody>\n",
       "</table>\n",
       "</div>"
      ],
      "text/plain": [
       "            0          1\n",
       "0   38.888889  57.407407\n",
       "1  400.000000   0.000000\n",
       "2    0.000000  50.000000"
      ]
     },
     "execution_count": 27,
     "metadata": {},
     "output_type": "execute_result"
    }
   ],
   "source": [
    "# From here, confused as to how we can get the bandwidth needed for each transfer\n",
    "X = max_min_fairness_priorities([100,400,50], test_C, c_node_index, c_edge_index)\n",
    "norm_priority = pd.DataFrame(data=X)\n",
    "norm_priority"
   ]
  },
  {
   "cell_type": "markdown",
   "metadata": {},
   "source": [
    "I attempted to calculate total bandwidth assigned per transfer by summing the rows in the resulting matrix, but the results were either under capacity or way over-exceeded capacity."
   ]
  },
  {
   "cell_type": "code",
   "execution_count": 28,
   "metadata": {},
   "outputs": [
    {
     "name": "stdout",
     "output_type": "stream",
     "text": [
      "Sum for transfer: 96.2962962962963\n",
      "Sum for transfer: 400.0\n",
      "Sum for transfer: 50.0\n",
      "Total bandwidth used by transfers: 88.88888888888889\n"
     ]
    }
   ],
   "source": [
    "#Doesn't sum up to max capacity exactly\n",
    "for r in X:\n",
    "    print(f\"Sum for transfer: {sum(r)}\")\n",
    "\n",
    "# Assign bandwidth based on the minimum bandwidth for a transfer\n",
    "# as calculated by weighted fair queueing\n",
    "assignments = []\n",
    "for c in range(len(X[0])):\n",
    "    col = [row[c] for row in X if row[c]!=0]\n",
    "    min_bandwidth = min(col)\n",
    "    assignments.append(min_bandwidth)\n",
    "print(f\"Total bandwidth used by transfers: {sum(assignments)}\")"
   ]
  },
  {
   "cell_type": "code",
   "execution_count": 29,
   "metadata": {},
   "outputs": [
    {
     "data": {
      "text/plain": [
       "array([[3., 5., 4., 0., 0., 0.],\n",
       "       [3., 0., 0., 2., 5., 0.],\n",
       "       [0., 5., 0., 2., 0., 5.],\n",
       "       [0., 0., 4., 0., 5., 5.]])"
      ]
     },
     "execution_count": 29,
     "metadata": {},
     "output_type": "execute_result"
    }
   ],
   "source": [
    "test_priorities"
   ]
  },
  {
   "cell_type": "code",
   "execution_count": null,
   "metadata": {},
   "outputs": [],
   "source": []
  }
 ],
 "metadata": {
  "kernelspec": {
   "display_name": "dev",
   "language": "python",
   "name": "python3"
  },
  "language_info": {
   "codemirror_mode": {
    "name": "ipython",
    "version": 3
   },
   "file_extension": ".py",
   "mimetype": "text/x-python",
   "name": "python",
   "nbconvert_exporter": "python",
   "pygments_lexer": "ipython3",
   "version": "3.8.19"
  }
 },
 "nbformat": 4,
 "nbformat_minor": 2
}
